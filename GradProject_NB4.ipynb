{
 "cells": [
  {
   "cell_type": "markdown",
   "metadata": {},
   "source": [
    "<h1> DS200A Computer Vision Assignment</h1>"
   ]
  },
  {
   "cell_type": "code",
   "execution_count": 42,
   "metadata": {},
   "outputs": [],
   "source": [
    "import numpy as np\n",
    "from numpy.random import seed\n",
    "import matplotlib.pyplot as plt\n",
    "import pandas as pd\n",
    "import matplotlib\n",
    "import skimage\n",
    "from skimage import data\n",
    "from skimage import io\n",
    "from skimage.io import imread_collection\n",
    "import cv2\n",
    "import seaborn as sns\n",
    "import scipy.stats as sc\n",
    "import os\n",
    "from skimage import img_as_ubyte\n",
    "from skimage import feature\n",
    "from skimage.transform import resize\n",
    "from sklearn.tree import export_graphviz\n",
    "from sklearn.externals.six import StringIO  \n",
    "from IPython.display import Image  \n",
    "import pydotplus\n",
    "from sklearn.cluster import KMeans\n",
    "from sklearn.model_selection import RandomizedSearchCV, GridSearchCV\n",
    "from sklearn.preprocessing import StandardScaler, KBinsDiscretizer\n",
    "from sklearn.ensemble import RandomForestClassifier\n",
    "from sklearn import svm\n",
    "from sklearn.preprocessing import normalize\n",
    "from sklearn.metrics import accuracy_score\n",
    "from sklearn.linear_model import LogisticRegression\n",
    "from sklearn.tree import DecisionTreeClassifier\n",
    "from sklearn.model_selection import cross_validate\n",
    "import mahotas\n",
    "import joblib\n",
    "import keras\n",
    "from keras.models import Sequential\n",
    "from keras.layers import Dense, Conv2D, Flatten, MaxPool2D\n",
    "from keras.datasets import mnist\n",
    "from keras.utils import to_categorical\n",
    "from keras.callbacks import ModelCheckpoint\n",
    "\n",
    "from tensorflow import set_random_seed"
   ]
  },
  {
   "cell_type": "markdown",
   "metadata": {},
   "source": [
    "<h2>  Part Four: Neural networks </h2>\t\n"
   ]
  },
  {
   "cell_type": "markdown",
   "metadata": {},
   "source": [
    "Build a neural network classifier using an architecture of your choosing. This application\n",
    "of deep learning can be done in PyTorch, TensorFlow, or a framework of your choice. This is the\n",
    "industry standard for image classification. Describe your network and assess its performance. To\n",
    "receive extra credit, your neural network classifier must outperform your other methods.\n",
    "\n"
   ]
  },
  {
   "cell_type": "code",
   "execution_count": 31,
   "metadata": {},
   "outputs": [],
   "source": [
    "def plot_loss_acc(training):\n",
    "    \n",
    "    # Extract the history from the training object\n",
    "    history = training.history\n",
    "\n",
    "    # Plot the training loss \n",
    "    plt.plot(history['loss'], label = 'train_loss')\n",
    "    # Plot the validation loss\n",
    "    plt.plot(history['val_loss'], label = 'val_loss')\n",
    "\n",
    "    # Show the figure\n",
    "    plt.legend()\n",
    "    plt.show()\n",
    "\n",
    "    # Plot the training loss \n",
    "    plt.plot(history['acc'], label = 'train_acc')\n",
    "    # Plot the validation loss\n",
    "    plt.plot(history['val_acc'], label = 'val_acc')\n",
    "\n",
    "    # Show the figure\n",
    "    plt.legend()\n",
    "    plt.show()\n",
    "\n",
    "def train_test_split(df, ratio, rand_state = 1234):\n",
    "    train=df.sample(frac = ratio, random_state = rand_state)\n",
    "    test=df.drop(train.index)\n",
    "    return train, test"
   ]
  },
  {
   "cell_type": "markdown",
   "metadata": {},
   "source": [
    "### No Convolutions"
   ]
  },
  {
   "cell_type": "code",
   "execution_count": 94,
   "metadata": {},
   "outputs": [],
   "source": [
    "### Data Prep\n",
    "(X_train, y_train), (X_test, y_test) = mnist.load_data()\n",
    "\n",
    "#one-hot encode target column\n",
    "y_train = to_categorical(y_train)\n",
    "y_test = to_categorical(y_test)\n",
    "\n",
    "train_data = X_train.reshape((60000, 784))\n",
    "test_data = X_test.reshape(10000,784)\n",
    "train_labels = y_train"
   ]
  },
  {
   "cell_type": "code",
   "execution_count": 95,
   "metadata": {
    "scrolled": true
   },
   "outputs": [
    {
     "name": "stdout",
     "output_type": "stream",
     "text": [
      "Train on 48000 samples, validate on 12000 samples\n",
      "Epoch 1/20\n",
      "48000/48000 [==============================] - 2s 52us/step - loss: 6.2595 - acc: 0.6042 - val_loss: 4.0258 - val_acc: 0.7444\n",
      "\n",
      "Epoch 00001: val_acc improved from -inf to 0.74442, saving model to Dens_model_mnist.hdf5\n",
      "Epoch 2/20\n",
      "48000/48000 [==============================] - 2s 36us/step - loss: 3.5134 - acc: 0.7770 - val_loss: 3.2312 - val_acc: 0.7963\n",
      "\n",
      "Epoch 00002: val_acc improved from 0.74442 to 0.79625, saving model to Dens_model_mnist.hdf5\n",
      "Epoch 3/20\n",
      "48000/48000 [==============================] - 2s 36us/step - loss: 3.2518 - acc: 0.7949 - val_loss: 3.9741 - val_acc: 0.7498\n",
      "\n",
      "Epoch 00003: val_acc did not improve from 0.79625\n",
      "Epoch 4/20\n",
      "48000/48000 [==============================] - 2s 36us/step - loss: 3.1898 - acc: 0.7994 - val_loss: 2.9682 - val_acc: 0.8135\n",
      "\n",
      "Epoch 00004: val_acc improved from 0.79625 to 0.81350, saving model to Dens_model_mnist.hdf5\n",
      "Epoch 5/20\n",
      "48000/48000 [==============================] - 2s 37us/step - loss: 3.1439 - acc: 0.8029 - val_loss: 3.0132 - val_acc: 0.8111\n",
      "\n",
      "Epoch 00005: val_acc did not improve from 0.81350\n",
      "Epoch 6/20\n",
      "48000/48000 [==============================] - 2s 39us/step - loss: 3.0286 - acc: 0.8101 - val_loss: 3.0491 - val_acc: 0.8091\n",
      "\n",
      "Epoch 00006: val_acc did not improve from 0.81350\n",
      "Epoch 7/20\n",
      "48000/48000 [==============================] - 2s 37us/step - loss: 3.1916 - acc: 0.8004 - val_loss: 3.0701 - val_acc: 0.8087\n",
      "\n",
      "Epoch 00007: val_acc did not improve from 0.81350\n",
      "Epoch 8/20\n",
      "48000/48000 [==============================] - 2s 37us/step - loss: 2.9328 - acc: 0.8170 - val_loss: 3.1777 - val_acc: 0.8018\n",
      "\n",
      "Epoch 00008: val_acc did not improve from 0.81350\n",
      "Epoch 9/20\n",
      "48000/48000 [==============================] - 2s 37us/step - loss: 2.9770 - acc: 0.8141 - val_loss: 3.1408 - val_acc: 0.8040\n",
      "\n",
      "Epoch 00009: val_acc did not improve from 0.81350\n",
      "Epoch 10/20\n",
      "48000/48000 [==============================] - 2s 37us/step - loss: 3.0651 - acc: 0.8087 - val_loss: 2.8563 - val_acc: 0.8216\n",
      "\n",
      "Epoch 00010: val_acc improved from 0.81350 to 0.82158, saving model to Dens_model_mnist.hdf5\n",
      "Epoch 11/20\n",
      "48000/48000 [==============================] - 2s 38us/step - loss: 2.9676 - acc: 0.8148 - val_loss: 2.8367 - val_acc: 0.8233\n",
      "\n",
      "Epoch 00011: val_acc improved from 0.82158 to 0.82325, saving model to Dens_model_mnist.hdf5\n",
      "Epoch 12/20\n",
      "48000/48000 [==============================] - 2s 39us/step - loss: 2.9662 - acc: 0.8151 - val_loss: 3.2866 - val_acc: 0.7949\n",
      "\n",
      "Epoch 00012: val_acc did not improve from 0.82325\n",
      "Epoch 13/20\n",
      "48000/48000 [==============================] - 2s 37us/step - loss: 2.9682 - acc: 0.8150 - val_loss: 2.7696 - val_acc: 0.8273\n",
      "\n",
      "Epoch 00013: val_acc improved from 0.82325 to 0.82725, saving model to Dens_model_mnist.hdf5\n",
      "Epoch 14/20\n",
      "48000/48000 [==============================] - 2s 40us/step - loss: 3.0365 - acc: 0.8109 - val_loss: 3.3977 - val_acc: 0.7887\n",
      "\n",
      "Epoch 00014: val_acc did not improve from 0.82725\n",
      "Epoch 15/20\n",
      "48000/48000 [==============================] - 2s 38us/step - loss: 3.0680 - acc: 0.8088 - val_loss: 2.9040 - val_acc: 0.8191\n",
      "\n",
      "Epoch 00015: val_acc did not improve from 0.82725\n",
      "Epoch 16/20\n",
      "48000/48000 [==============================] - 2s 37us/step - loss: 2.8276 - acc: 0.8240 - val_loss: 2.8703 - val_acc: 0.8214\n",
      "\n",
      "Epoch 00016: val_acc did not improve from 0.82725\n",
      "Epoch 17/20\n",
      "48000/48000 [==============================] - 2s 37us/step - loss: 2.9336 - acc: 0.8174 - val_loss: 2.7589 - val_acc: 0.8283\n",
      "\n",
      "Epoch 00017: val_acc improved from 0.82725 to 0.82825, saving model to Dens_model_mnist.hdf5\n",
      "Epoch 18/20\n",
      "48000/48000 [==============================] - 2s 38us/step - loss: 2.8411 - acc: 0.8231 - val_loss: 2.8301 - val_acc: 0.8237\n",
      "\n",
      "Epoch 00018: val_acc did not improve from 0.82825\n",
      "Epoch 19/20\n",
      "48000/48000 [==============================] - 2s 39us/step - loss: 2.8206 - acc: 0.8242 - val_loss: 3.2591 - val_acc: 0.7974\n",
      "\n",
      "Epoch 00019: val_acc did not improve from 0.82825\n",
      "Epoch 20/20\n",
      "48000/48000 [==============================] - 2s 40us/step - loss: 2.9588 - acc: 0.8160 - val_loss: 2.9980 - val_acc: 0.8137\n",
      "\n",
      "Epoch 00020: val_acc did not improve from 0.82825\n"
     ]
    },
    {
     "data": {
      "image/png": "[encoded data removed]",
      "text/plain": [
       "<Figure size 432x288 with 1 Axes>"
      ]
     },
     "metadata": {
      "needs_background": "light"
     },
     "output_type": "display_data"
    },
    {
     "data": {
      "image/png": "[encoded data removed]",
      "text/plain": [
       "<Figure size 432x288 with 1 Axes>"
      ]
     },
     "metadata": {
      "needs_background": "light"
     },
     "output_type": "display_data"
    }
   ],
   "source": [
    "# setting seed\n",
    "seed(1)\n",
    "set_random_seed(2)\n",
    "seed(1234)\n",
    "\n",
    "### Model definition\n",
    "\n",
    "model = Sequential()\n",
    "model.add(Dense(50, activation='relu', input_shape=(784,)))\n",
    "model.add(Dense(50, activation='relu'))\n",
    "model.add(Dense(10, activation='softmax'))\n",
    "model.compile(optimizer='adam', loss='categorical_crossentropy', metrics=['accuracy'])\n",
    "\n",
    "filepath=\"Dens_model_mnist.hdf5\"\n",
    "checkpoint = ModelCheckpoint(filepath, monitor='val_acc', verbose=1, save_best_only=True)\n",
    "callbacks_list = [checkpoint]\n",
    "\n",
    "training = model.fit(train_data, train_labels, validation_split=0.2, epochs=20, callbacks=callbacks_list)\n",
    "plot_loss_acc(training)"
   ]
  },
  {
   "cell_type": "markdown",
   "metadata": {},
   "source": [
    "### With Convolutions"
   ]
  },
  {
   "cell_type": "code",
   "execution_count": 28,
   "metadata": {},
   "outputs": [],
   "source": [
    "### Data Prep\n",
    "(X_train, y_train), (X_test, y_test) = mnist.load_data()\n",
    "y_train.shape\n",
    "\n",
    "#one-hot encode target column\n",
    "y_train = to_categorical(y_train)\n",
    "y_test = to_categorical(y_test)\n",
    "\n",
    "train_data = X_train.reshape((60000, 28,28, 1))\n",
    "test_data = X_test.reshape(10000,28, 28, 1)\n",
    "train_labels = y_train"
   ]
  },
  {
   "cell_type": "code",
   "execution_count": 29,
   "metadata": {
    "scrolled": true
   },
   "outputs": [
    {
     "name": "stdout",
     "output_type": "stream",
     "text": [
      "Train on 48000 samples, validate on 12000 samples\n",
      "Epoch 1/20\n",
      "48000/48000 [==============================] - 6s 127us/step - loss: 0.4265 - acc: 0.8971 - val_loss: 0.1508 - val_acc: 0.9553\n",
      "\n",
      "Epoch 00001: val_acc improved from -inf to 0.95525, saving model to Conv_model_mnist.hdf5\n",
      "Epoch 2/20\n",
      "48000/48000 [==============================] - 6s 117us/step - loss: 0.1159 - acc: 0.9664 - val_loss: 0.1406 - val_acc: 0.9631\n",
      "\n",
      "Epoch 00002: val_acc improved from 0.95525 to 0.96308, saving model to Conv_model_mnist.hdf5\n",
      "Epoch 3/20\n",
      "48000/48000 [==============================] - 6s 117us/step - loss: 0.0724 - acc: 0.9784 - val_loss: 0.1150 - val_acc: 0.9678\n",
      "\n",
      "Epoch 00003: val_acc improved from 0.96308 to 0.96783, saving model to Conv_model_mnist.hdf5\n",
      "Epoch 4/20\n",
      "48000/48000 [==============================] - 6s 119us/step - loss: 0.0570 - acc: 0.9832 - val_loss: 0.1246 - val_acc: 0.9674\n",
      "\n",
      "Epoch 00004: val_acc did not improve from 0.96783\n",
      "Epoch 5/20\n",
      "48000/48000 [==============================] - 6s 123us/step - loss: 0.0417 - acc: 0.9870 - val_loss: 0.1197 - val_acc: 0.9728\n",
      "\n",
      "Epoch 00005: val_acc improved from 0.96783 to 0.97275, saving model to Conv_model_mnist.hdf5\n",
      "Epoch 6/20\n",
      "48000/48000 [==============================] - 6s 121us/step - loss: 0.0327 - acc: 0.9896 - val_loss: 0.1162 - val_acc: 0.9738\n",
      "\n",
      "Epoch 00006: val_acc improved from 0.97275 to 0.97375, saving model to Conv_model_mnist.hdf5\n",
      "Epoch 7/20\n",
      "48000/48000 [==============================] - 6s 120us/step - loss: 0.0294 - acc: 0.9907 - val_loss: 0.1381 - val_acc: 0.9719\n",
      "\n",
      "Epoch 00007: val_acc did not improve from 0.97375\n",
      "Epoch 8/20\n",
      "48000/48000 [==============================] - 6s 122us/step - loss: 0.0203 - acc: 0.9938 - val_loss: 0.1462 - val_acc: 0.9718\n",
      "\n",
      "Epoch 00008: val_acc did not improve from 0.97375\n",
      "Epoch 9/20\n",
      "48000/48000 [==============================] - 6s 123us/step - loss: 0.0226 - acc: 0.9934 - val_loss: 0.1403 - val_acc: 0.9731\n",
      "\n",
      "Epoch 00009: val_acc did not improve from 0.97375\n",
      "Epoch 10/20\n",
      "48000/48000 [==============================] - 6s 128us/step - loss: 0.0162 - acc: 0.9952 - val_loss: 0.1464 - val_acc: 0.9754\n",
      "\n",
      "Epoch 00010: val_acc improved from 0.97375 to 0.97542, saving model to Conv_model_mnist.hdf5\n",
      "Epoch 11/20\n",
      "48000/48000 [==============================] - 6s 128us/step - loss: 0.0156 - acc: 0.9952 - val_loss: 0.1592 - val_acc: 0.9715\n",
      "\n",
      "Epoch 00011: val_acc did not improve from 0.97542\n",
      "Epoch 12/20\n",
      "48000/48000 [==============================] - 6s 125us/step - loss: 0.0149 - acc: 0.9955 - val_loss: 0.1521 - val_acc: 0.9732\n",
      "\n",
      "Epoch 00012: val_acc did not improve from 0.97542\n",
      "Epoch 13/20\n",
      "48000/48000 [==============================] - 6s 126us/step - loss: 0.0120 - acc: 0.9962 - val_loss: 0.1644 - val_acc: 0.9726\n",
      "\n",
      "Epoch 00013: val_acc did not improve from 0.97542\n",
      "Epoch 14/20\n",
      "48000/48000 [==============================] - 6s 125us/step - loss: 0.0128 - acc: 0.9962 - val_loss: 0.1696 - val_acc: 0.9722\n",
      "\n",
      "Epoch 00014: val_acc did not improve from 0.97542\n",
      "Epoch 15/20\n",
      "48000/48000 [==============================] - 6s 126us/step - loss: 0.0080 - acc: 0.9978 - val_loss: 0.1729 - val_acc: 0.9725\n",
      "\n",
      "Epoch 00015: val_acc did not improve from 0.97542\n",
      "Epoch 16/20\n",
      "48000/48000 [==============================] - 6s 127us/step - loss: 0.0084 - acc: 0.9974 - val_loss: 0.1902 - val_acc: 0.9732\n",
      "\n",
      "Epoch 00016: val_acc did not improve from 0.97542\n",
      "Epoch 17/20\n",
      "48000/48000 [==============================] - 6s 126us/step - loss: 0.0121 - acc: 0.9969 - val_loss: 0.1837 - val_acc: 0.9740\n",
      "\n",
      "Epoch 00017: val_acc did not improve from 0.97542\n",
      "Epoch 18/20\n",
      "48000/48000 [==============================] - 6s 127us/step - loss: 0.0073 - acc: 0.9979 - val_loss: 0.1840 - val_acc: 0.9735\n",
      "\n",
      "Epoch 00018: val_acc did not improve from 0.97542\n",
      "Epoch 19/20\n",
      "48000/48000 [==============================] - 6s 124us/step - loss: 0.0114 - acc: 0.9971 - val_loss: 0.2030 - val_acc: 0.9752\n",
      "\n",
      "Epoch 00019: val_acc did not improve from 0.97542\n",
      "Epoch 20/20\n",
      "48000/48000 [==============================] - 6s 133us/step - loss: 0.0090 - acc: 0.9977 - val_loss: 0.1989 - val_acc: 0.9743\n",
      "\n",
      "Epoch 00020: val_acc did not improve from 0.97542\n"
     ]
    },
    {
     "data": {
      "image/png": "[encoded data removed]",
      "text/plain": [
       "<Figure size 432x288 with 1 Axes>"
      ]
     },
     "metadata": {
      "needs_background": "light"
     },
     "output_type": "display_data"
    },
    {
     "data": {
      "image/png": "[encoded data removed]",
      "text/plain": [
       "<Figure size 432x288 with 1 Axes>"
      ]
     },
     "metadata": {
      "needs_background": "light"
     },
     "output_type": "display_data"
    }
   ],
   "source": [
    "### Model definition\n",
    "\n",
    "model = Sequential()\n",
    "model.add(Conv2D(10, kernel_size=2, activation='relu', input_shape=(28,28,1), padding = 'same'))\n",
    "model.add(Flatten())\n",
    "model.add(Dense(50, activation='relu'))\n",
    "model.add(Dense(50, activation='relu'))\n",
    "model.add(Dense(10, activation='softmax'))\n",
    "model.compile(optimizer='adam', loss='categorical_crossentropy', metrics=['accuracy'])\n",
    "\n",
    "filepath=\"Conv_model_mnist.hdf5\"\n",
    "checkpoint = ModelCheckpoint(filepath, monitor='val_acc', verbose=1, save_best_only=True)\n",
    "callbacks_list = [checkpoint]\n",
    "\n",
    "training = model.fit(train_data, train_labels, validation_split=0.2, epochs=20, callbacks=callbacks_list)\n",
    "plot_loss_acc(training)"
   ]
  },
  {
   "cell_type": "code",
   "execution_count": 41,
   "metadata": {
    "collapsed": true
   },
   "outputs": [],
   "source": [
    "def NN():\n",
    "    raise NotImplemented()"
   ]
  },
  {
   "cell_type": "markdown",
   "metadata": {},
   "source": [
    "### Hyperparameter Tuning"
   ]
  },
  {
   "cell_type": "code",
   "execution_count": null,
   "metadata": {},
   "outputs": [],
   "source": [
    "random_grid = {\n",
    "               'max_depth': max_depth,\n",
    "               'min_samples_split': min_samples_split,\n",
    "               'min_samples_leaf': min_samples_leaf\n",
    "              }\n",
    "\n",
    "clf = DecisionTreeClassifier()\n",
    "\n",
    "rf_random = RandomizedSearchCV(estimator = clf, param_distributions = random_grid, \n",
    "                               n_iter = 300, cv = 4, verbose=2, random_state=42, n_jobs = -1)\n",
    "rf_random.fit(x_train, y_train)\n",
    "rf_random.best_params_"
   ]
  },
  {
   "cell_type": "markdown",
   "metadata": {},
   "source": [
    "## Project Dataset"
   ]
  },
  {
   "cell_type": "code",
   "execution_count": 70,
   "metadata": {},
   "outputs": [],
   "source": [
    "def gray_to_rgb(image):\n",
    "    if len(image.shape) == 2:\n",
    "        return skimage.color.gray2rgb(image)\n",
    "    else:\n",
    "        return image\n",
    "def img_resize(image):\n",
    "    return resize(image, (224, 224), anti_aliasing=True)\n",
    "\n",
    "def read_organize_data(file_path):\n",
    "    #Fill this function out, should return a dataframe with picture object, and correct encoding\n",
    "    label_list = next(os.walk(file_path))[1]\n",
    "    label_list.sort()\n",
    "    label_dict = {}\n",
    "    for i in range(20):\n",
    "        label_dict[i] = label_list[i]\n",
    "    labels = list(label_dict.values())\n",
    "    return_db = pd.DataFrame(columns = ['Pictures', 'Label','Encoding', 'File_Path'])\n",
    "    for enc, label in label_dict.items():\n",
    "        path = os.path.join(os.getcwd(),file_path + '/' + label)\n",
    "        file_path_list = [path + '/' + x for x in os.listdir(path)]\n",
    "        sub_db = pd.DataFrame()\n",
    "        sub_db['Pictures'] = list(imread_collection(file_path_list))\n",
    "        sub_db['Label'] = label\n",
    "        sub_db['Encoding'] = enc\n",
    "        sub_db['File_Path'] = file_path_list\n",
    "        return_db = pd.concat([return_db, sub_db])\n",
    "    return_db = return_db.reset_index()\n",
    "    return_db['Pictures'] = return_db['Pictures'].apply(gray_to_rgb)\n",
    "    return_db['Pictures'] = return_db['Pictures'].apply(img_resize)\n",
    "    \n",
    "    return return_db\n",
    "    "
   ]
  },
  {
   "cell_type": "code",
   "execution_count": 71,
   "metadata": {},
   "outputs": [
    {
     "data": {
      "text/html": [
       "<div>\n",
       "<style scoped>\n",
       "    .dataframe tbody tr th:only-of-type {\n",
       "        vertical-align: middle;\n",
       "    }\n",
       "\n",
       "    .dataframe tbody tr th {\n",
       "        vertical-align: top;\n",
       "    }\n",
       "\n",
       "    .dataframe thead th {\n",
       "        text-align: right;\n",
       "    }\n",
       "</style>\n",
       "<table border=\"1\" class=\"dataframe\">\n",
       "  <thead>\n",
       "    <tr style=\"text-align: right;\">\n",
       "      <th></th>\n",
       "      <th>index</th>\n",
       "      <th>Pictures</th>\n",
       "      <th>Label</th>\n",
       "      <th>Encoding</th>\n",
       "      <th>File_Path</th>\n",
       "    </tr>\n",
       "  </thead>\n",
       "  <tbody>\n",
       "    <tr>\n",
       "      <th>0</th>\n",
       "      <td>0</td>\n",
       "      <td>[[[0.996078431372549, 0.996078431372549, 0.996...</td>\n",
       "      <td>airplanes</td>\n",
       "      <td>0</td>\n",
       "      <td>/Users/vikrant/Classes/DS_100/final_project/20...</td>\n",
       "    </tr>\n",
       "    <tr>\n",
       "      <th>1</th>\n",
       "      <td>1</td>\n",
       "      <td>[[[0.3605124080882322, 0.2358223367471956, 0.0...</td>\n",
       "      <td>airplanes</td>\n",
       "      <td>0</td>\n",
       "      <td>/Users/vikrant/Classes/DS_100/final_project/20...</td>\n",
       "    </tr>\n",
       "    <tr>\n",
       "      <th>2</th>\n",
       "      <td>2</td>\n",
       "      <td>[[[1.0, 1.0, 1.0], [1.0, 1.0, 1.0], [1.0, 1.0,...</td>\n",
       "      <td>airplanes</td>\n",
       "      <td>0</td>\n",
       "      <td>/Users/vikrant/Classes/DS_100/final_project/20...</td>\n",
       "    </tr>\n",
       "    <tr>\n",
       "      <th>3</th>\n",
       "      <td>3</td>\n",
       "      <td>[[[1.0, 1.0, 1.0], [1.0, 1.0, 1.0], [1.0, 1.0,...</td>\n",
       "      <td>airplanes</td>\n",
       "      <td>0</td>\n",
       "      <td>/Users/vikrant/Classes/DS_100/final_project/20...</td>\n",
       "    </tr>\n",
       "    <tr>\n",
       "      <th>4</th>\n",
       "      <td>4</td>\n",
       "      <td>[[[1.0, 1.0, 1.0], [1.0, 1.0, 1.0], [1.0, 1.0,...</td>\n",
       "      <td>airplanes</td>\n",
       "      <td>0</td>\n",
       "      <td>/Users/vikrant/Classes/DS_100/final_project/20...</td>\n",
       "    </tr>\n",
       "  </tbody>\n",
       "</table>\n",
       "</div>"
      ],
      "text/plain": [
       "   index                                           Pictures      Label  \\\n",
       "0      0  [[[0.996078431372549, 0.996078431372549, 0.996...  airplanes   \n",
       "1      1  [[[0.3605124080882322, 0.2358223367471956, 0.0...  airplanes   \n",
       "2      2  [[[1.0, 1.0, 1.0], [1.0, 1.0, 1.0], [1.0, 1.0,...  airplanes   \n",
       "3      3  [[[1.0, 1.0, 1.0], [1.0, 1.0, 1.0], [1.0, 1.0,...  airplanes   \n",
       "4      4  [[[1.0, 1.0, 1.0], [1.0, 1.0, 1.0], [1.0, 1.0,...  airplanes   \n",
       "\n",
       "  Encoding                                          File_Path  \n",
       "0        0  /Users/vikrant/Classes/DS_100/final_project/20...  \n",
       "1        0  /Users/vikrant/Classes/DS_100/final_project/20...  \n",
       "2        0  /Users/vikrant/Classes/DS_100/final_project/20...  \n",
       "3        0  /Users/vikrant/Classes/DS_100/final_project/20...  \n",
       "4        0  /Users/vikrant/Classes/DS_100/final_project/20...  "
      ]
     },
     "execution_count": 71,
     "metadata": {},
     "output_type": "execute_result"
    }
   ],
   "source": [
    "starting_data = read_organize_data('20_categories_training/20_categories_training')\n",
    "starting_data.head()"
   ]
  },
  {
   "cell_type": "code",
   "execution_count": 100,
   "metadata": {},
   "outputs": [],
   "source": [
    "train, test = train_test_split(starting_data, ratio = 0.8)\n",
    "\n",
    "y_train = to_categorical(train['Encoding'])\n",
    "\n",
    "img_list = []\n",
    "for i in range(len(train)):\n",
    "    img_list.append(train['Pictures'].iloc[i]) \n",
    "X_train = np.array(img_list)\n",
    "\n",
    "train_data = X_train\n",
    "train_labels = y_train"
   ]
  },
  {
   "cell_type": "code",
   "execution_count": 101,
   "metadata": {
    "scrolled": false
   },
   "outputs": [
    {
     "name": "stdout",
     "output_type": "stream",
     "text": [
      "Train on 960 samples, validate on 241 samples\n",
      "Epoch 1/20\n",
      "960/960 [==============================] - 14s 15ms/step - loss: 11.4032 - acc: 0.1375 - val_loss: 10.2922 - val_acc: 0.1909\n",
      "Epoch 2/20\n",
      "960/960 [==============================] - 13s 14ms/step - loss: 5.8352 - acc: 0.2260 - val_loss: 2.8476 - val_acc: 0.2531\n",
      "Epoch 3/20\n",
      "960/960 [==============================] - 13s 14ms/step - loss: 2.6586 - acc: 0.2958 - val_loss: 2.7069 - val_acc: 0.2365\n",
      "Epoch 4/20\n",
      "960/960 [==============================] - 13s 14ms/step - loss: 2.1280 - acc: 0.4021 - val_loss: 2.5020 - val_acc: 0.2822\n",
      "Epoch 5/20\n",
      "960/960 [==============================] - 14s 14ms/step - loss: 1.4579 - acc: 0.6021 - val_loss: 2.6038 - val_acc: 0.2863\n",
      "Epoch 6/20\n",
      "960/960 [==============================] - 14s 14ms/step - loss: 0.7883 - acc: 0.8021 - val_loss: 2.7730 - val_acc: 0.3029\n",
      "Epoch 7/20\n",
      "960/960 [==============================] - 13s 14ms/step - loss: 0.4027 - acc: 0.9156 - val_loss: 2.9843 - val_acc: 0.3568\n",
      "Epoch 8/20\n",
      "960/960 [==============================] - 13s 14ms/step - loss: 0.1875 - acc: 0.9615 - val_loss: 3.2548 - val_acc: 0.3112\n",
      "Epoch 9/20\n",
      "960/960 [==============================] - 14s 14ms/step - loss: 0.1153 - acc: 0.9792 - val_loss: 3.3490 - val_acc: 0.3527\n",
      "Epoch 10/20\n",
      "960/960 [==============================] - 14s 14ms/step - loss: 0.0679 - acc: 0.9875 - val_loss: 3.4762 - val_acc: 0.3195\n",
      "Epoch 11/20\n",
      "960/960 [==============================] - 13s 14ms/step - loss: 0.0500 - acc: 0.9906 - val_loss: 3.7804 - val_acc: 0.3485\n",
      "Epoch 12/20\n",
      "960/960 [==============================] - 14s 14ms/step - loss: 0.0268 - acc: 0.9917 - val_loss: 3.9903 - val_acc: 0.3154\n",
      "Epoch 13/20\n",
      "960/960 [==============================] - 13s 14ms/step - loss: 0.0162 - acc: 0.9958 - val_loss: 3.8555 - val_acc: 0.3071\n",
      "Epoch 14/20\n",
      "960/960 [==============================] - 14s 14ms/step - loss: 0.0158 - acc: 0.9969 - val_loss: 3.9946 - val_acc: 0.3154\n",
      "Epoch 15/20\n",
      "960/960 [==============================] - 14s 14ms/step - loss: 0.0105 - acc: 0.9969 - val_loss: 3.9948 - val_acc: 0.3112\n",
      "Epoch 16/20\n",
      "960/960 [==============================] - 13s 14ms/step - loss: 0.0115 - acc: 0.9969 - val_loss: 4.0593 - val_acc: 0.3071\n",
      "Epoch 17/20\n",
      "960/960 [==============================] - 14s 14ms/step - loss: 0.0169 - acc: 0.9958 - val_loss: 3.9546 - val_acc: 0.3320\n",
      "Epoch 18/20\n",
      "960/960 [==============================] - 13s 14ms/step - loss: 0.0088 - acc: 0.9990 - val_loss: 4.2033 - val_acc: 0.3402\n",
      "Epoch 19/20\n",
      "960/960 [==============================] - 13s 14ms/step - loss: 0.0056 - acc: 0.9990 - val_loss: 4.3330 - val_acc: 0.3361\n",
      "Epoch 20/20\n",
      "960/960 [==============================] - 13s 14ms/step - loss: 0.0034 - acc: 1.0000 - val_loss: 4.4200 - val_acc: 0.3361\n"
     ]
    },
    {
     "data": {
      "image/png": "[encoded data removed]",
      "text/plain": [
       "<Figure size 432x288 with 1 Axes>"
      ]
     },
     "metadata": {
      "needs_background": "light"
     },
     "output_type": "display_data"
    },
    {
     "data": {
      "image/png": "[encoded data removed]",
      "text/plain": [
       "<Figure size 432x288 with 1 Axes>"
      ]
     },
     "metadata": {
      "needs_background": "light"
     },
     "output_type": "display_data"
    }
   ],
   "source": [
    "model = Sequential()\n",
    "model.add(Conv2D(10, kernel_size=3, activation='relu', input_shape=(224,224,3), padding = 'same'))\n",
    "model.add(Flatten())\n",
    "model.add(Dense(50, activation='relu'))\n",
    "model.add(Dense(50, activation='relu'))\n",
    "model.add(Dense(20, activation='softmax'))\n",
    "model.compile(optimizer='adam', loss='categorical_crossentropy', metrics=['accuracy'])\n",
    "\n",
    "training = model.fit(train_data, train_labels, validation_split=0.2, epochs=20)\n",
    "plot_loss_acc(training)"
   ]
  },
  {
   "cell_type": "code",
   "execution_count": 96,
   "metadata": {},
   "outputs": [],
   "source": [
    "train, test = train_test_split(starting_data, ratio = 0.8)\n",
    "\n",
    "y_train = to_categorical(train['Encoding'])\n",
    "\n",
    "img_list = []\n",
    "for i in range(len(train)):\n",
    "    img_list.append(train['Pictures'].iloc[i]) \n",
    "X_train = np.array(img_list)\n",
    "\n",
    "train_data = X_train.reshape(1201, 224*224*3)\n",
    "train_labels = y_train"
   ]
  },
  {
   "cell_type": "code",
   "execution_count": 99,
   "metadata": {
    "scrolled": true
   },
   "outputs": [
    {
     "name": "stdout",
     "output_type": "stream",
     "text": [
      "Train on 960 samples, validate on 241 samples\n",
      "Epoch 1/20\n",
      "960/960 [==============================] - 4s 4ms/step - loss: 14.6882 - acc: 0.0615 - val_loss: 15.3824 - val_acc: 0.0456\n",
      "\n",
      "Epoch 00001: val_acc improved from -inf to 0.04564, saving model to Dens_model_mnist.hdf5\n",
      "Epoch 2/20\n",
      "960/960 [==============================] - 3s 3ms/step - loss: 15.0771 - acc: 0.0646 - val_loss: 15.3824 - val_acc: 0.0456\n",
      "\n",
      "Epoch 00002: val_acc did not improve from 0.04564\n",
      "Epoch 3/20\n",
      "960/960 [==============================] - 3s 3ms/step - loss: 15.0771 - acc: 0.0646 - val_loss: 15.3824 - val_acc: 0.0456\n",
      "\n",
      "Epoch 00003: val_acc did not improve from 0.04564\n",
      "Epoch 4/20\n",
      "960/960 [==============================] - 3s 3ms/step - loss: 15.0771 - acc: 0.0646 - val_loss: 15.3824 - val_acc: 0.0456\n",
      "\n",
      "Epoch 00004: val_acc did not improve from 0.04564\n",
      "Epoch 5/20\n",
      "960/960 [==============================] - 2s 3ms/step - loss: 15.0771 - acc: 0.0646 - val_loss: 15.3824 - val_acc: 0.0456\n",
      "\n",
      "Epoch 00005: val_acc did not improve from 0.04564\n",
      "Epoch 6/20\n",
      "960/960 [==============================] - 3s 3ms/step - loss: 15.0771 - acc: 0.0646 - val_loss: 15.3824 - val_acc: 0.0456\n",
      "\n",
      "Epoch 00006: val_acc did not improve from 0.04564\n",
      "Epoch 7/20\n",
      "960/960 [==============================] - 3s 3ms/step - loss: 15.0771 - acc: 0.0646 - val_loss: 15.3824 - val_acc: 0.0456\n",
      "\n",
      "Epoch 00007: val_acc did not improve from 0.04564\n",
      "Epoch 8/20\n",
      "960/960 [==============================] - 3s 3ms/step - loss: 15.0771 - acc: 0.0646 - val_loss: 15.3824 - val_acc: 0.0456\n",
      "\n",
      "Epoch 00008: val_acc did not improve from 0.04564\n",
      "Epoch 9/20\n",
      "960/960 [==============================] - 3s 3ms/step - loss: 15.0771 - acc: 0.0646 - val_loss: 15.3824 - val_acc: 0.0456\n",
      "\n",
      "Epoch 00009: val_acc did not improve from 0.04564\n",
      "Epoch 10/20\n",
      "960/960 [==============================] - 3s 3ms/step - loss: 15.0771 - acc: 0.0646 - val_loss: 15.3824 - val_acc: 0.0456\n",
      "\n",
      "Epoch 00010: val_acc did not improve from 0.04564\n",
      "Epoch 11/20\n",
      "960/960 [==============================] - 3s 3ms/step - loss: 15.0771 - acc: 0.0646 - val_loss: 15.3824 - val_acc: 0.0456\n",
      "\n",
      "Epoch 00011: val_acc did not improve from 0.04564\n",
      "Epoch 12/20\n",
      "960/960 [==============================] - 3s 3ms/step - loss: 15.0771 - acc: 0.0646 - val_loss: 15.3824 - val_acc: 0.0456\n",
      "\n",
      "Epoch 00012: val_acc did not improve from 0.04564\n",
      "Epoch 13/20\n",
      "960/960 [==============================] - 3s 3ms/step - loss: 15.0771 - acc: 0.0646 - val_loss: 15.3824 - val_acc: 0.0456\n",
      "\n",
      "Epoch 00013: val_acc did not improve from 0.04564\n",
      "Epoch 14/20\n",
      "960/960 [==============================] - 3s 3ms/step - loss: 15.0771 - acc: 0.0646 - val_loss: 15.3824 - val_acc: 0.0456\n",
      "\n",
      "Epoch 00014: val_acc did not improve from 0.04564\n",
      "Epoch 15/20\n",
      "960/960 [==============================] - 3s 3ms/step - loss: 15.0771 - acc: 0.0646 - val_loss: 15.3824 - val_acc: 0.0456\n",
      "\n",
      "Epoch 00015: val_acc did not improve from 0.04564\n",
      "Epoch 16/20\n",
      "960/960 [==============================] - 3s 3ms/step - loss: 15.0771 - acc: 0.0646 - val_loss: 15.3824 - val_acc: 0.0456\n",
      "\n",
      "Epoch 00016: val_acc did not improve from 0.04564\n",
      "Epoch 17/20\n",
      "960/960 [==============================] - 3s 3ms/step - loss: 15.0771 - acc: 0.0646 - val_loss: 15.3824 - val_acc: 0.0456\n",
      "\n",
      "Epoch 00017: val_acc did not improve from 0.04564\n",
      "Epoch 18/20\n",
      "960/960 [==============================] - 3s 3ms/step - loss: 15.0771 - acc: 0.0646 - val_loss: 15.3824 - val_acc: 0.0456\n",
      "\n",
      "Epoch 00018: val_acc did not improve from 0.04564\n",
      "Epoch 19/20\n",
      "960/960 [==============================] - 3s 3ms/step - loss: 15.0771 - acc: 0.0646 - val_loss: 15.3824 - val_acc: 0.0456\n",
      "\n",
      "Epoch 00019: val_acc did not improve from 0.04564\n",
      "Epoch 20/20\n",
      "960/960 [==============================] - 3s 3ms/step - loss: 15.0771 - acc: 0.0646 - val_loss: 15.3824 - val_acc: 0.0456\n",
      "\n",
      "Epoch 00020: val_acc did not improve from 0.04564\n"
     ]
    },
    {
     "data": {
      "image/png": "[encoded data removed]",
      "text/plain": [
       "<Figure size 432x288 with 1 Axes>"
      ]
     },
     "metadata": {
      "needs_background": "light"
     },
     "output_type": "display_data"
    },
    {
     "data": {
      "image/png": "[encoded data removed]",
      "text/plain": [
       "<Figure size 432x288 with 1 Axes>"
      ]
     },
     "metadata": {
      "needs_background": "light"
     },
     "output_type": "display_data"
    }
   ],
   "source": [
    "# setting seed\n",
    "seed(1)\n",
    "set_random_seed(2)\n",
    "seed(1234)\n",
    "\n",
    "### Model definition\n",
    "\n",
    "model = Sequential()\n",
    "model.add(Dense(50, activation='relu', input_shape=(224*224*3,)))\n",
    "model.add(Dense(50, activation='relu'))\n",
    "model.add(Dense(20, activation='softmax'))\n",
    "model.compile(optimizer='adam', loss='categorical_crossentropy', metrics=['accuracy'])\n",
    "\n",
    "filepath=\"Dens_model_mnist.hdf5\"\n",
    "checkpoint = ModelCheckpoint(filepath, monitor='val_acc', verbose=1, save_best_only=True)\n",
    "callbacks_list = [checkpoint]\n",
    "\n",
    "training = model.fit(train_data, train_labels, validation_split=0.2, epochs=20, callbacks=callbacks_list)\n",
    "plot_loss_acc(training)"
   ]
  },
  {
   "cell_type": "code",
   "execution_count": 88,
   "metadata": {},
   "outputs": [
    {
     "data": {
      "text/plain": [
       "(10, 224, 224, 3)"
      ]
     },
     "execution_count": 88,
     "metadata": {},
     "output_type": "execute_result"
    }
   ],
   "source": [
    "np.array(ar).shape"
   ]
  },
  {
   "cell_type": "code",
   "execution_count": null,
   "metadata": {},
   "outputs": [],
   "source": []
  }
 ],
 "metadata": {
  "kernelspec": {
   "display_name": "Python 3",
   "language": "python",
   "name": "python3"
  },
  "language_info": {
   "codemirror_mode": {
    "name": "ipython",
    "version": 3
   },
   "file_extension": ".py",
   "mimetype": "text/x-python",
   "name": "python",
   "nbconvert_exporter": "python",
   "pygments_lexer": "ipython3",
   "version": "3.6.7"
  }
 },
 "nbformat": 4,
 "nbformat_minor": 2
}
